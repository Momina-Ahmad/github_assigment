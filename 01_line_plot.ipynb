{
 "cells": [
  {
   "cell_type": "markdown",
   "id": "dc54fbd2",
   "metadata": {},
   "source": [
    "# import libraries\n",
    " - Seaborn\n",
    " - numpy\n",
    " - scipy\n",
    " - pandas\n",
    " - matplotlib\n"
   ]
  },
  {
   "cell_type": "code",
   "execution_count": null,
   "id": "a8e4c33b",
   "metadata": {},
   "outputs": [],
   "source": [
    "# impot libraries\n",
    "import seaborn as sns\n",
    "import matplotlib.pyplot as plt "
   ]
  },
  {
   "cell_type": "code",
   "execution_count": null,
   "id": "f443d1dc",
   "metadata": {},
   "outputs": [],
   "source": []
  }
 ],
 "metadata": {
  "kernelspec": {
   "display_name": "Python 3 (ipykernel)",
   "language": "python",
   "name": "python3"
  },
  "language_info": {
   "codemirror_mode": {
    "name": "ipython",
    "version": 3
   },
   "file_extension": ".py",
   "mimetype": "text/x-python",
   "name": "python",
   "nbconvert_exporter": "python",
   "pygments_lexer": "ipython3",
   "version": "3.11.4"
  }
 },
 "nbformat": 4,
 "nbformat_minor": 5
}
